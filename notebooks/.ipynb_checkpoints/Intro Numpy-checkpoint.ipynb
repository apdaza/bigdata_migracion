{
 "cells": [
  {
   "cell_type": "markdown",
   "id": "6986bbd9",
   "metadata": {},
   "source": [
    "# Introducción a NumPy\n",
    "\n",
    "__Numpy__ o python numérico"
   ]
  },
  {
   "cell_type": "markdown",
   "id": "9d92ac6c",
   "metadata": {},
   "source": [
    "Vamos a importar la librería y a verificar su versión"
   ]
  },
  {
   "cell_type": "code",
   "execution_count": 1,
   "id": "25b8e728",
   "metadata": {},
   "outputs": [
    {
     "name": "stdout",
     "output_type": "stream",
     "text": [
      "1.20.2\n"
     ]
    }
   ],
   "source": [
    "import numpy as np\n",
    "\n",
    "print(np.__version__)"
   ]
  },
  {
   "cell_type": "markdown",
   "id": "2dd9b9fb",
   "metadata": {},
   "source": [
    "Crear una lista de forma tradicional"
   ]
  },
  {
   "cell_type": "code",
   "execution_count": 2,
   "id": "48c8029c",
   "metadata": {},
   "outputs": [
    {
     "data": {
      "text/plain": [
       "list"
      ]
     },
     "execution_count": 2,
     "metadata": {},
     "output_type": "execute_result"
    }
   ],
   "source": [
    "mi_lista = [1, 2, 3, 4, 5, 6]\n",
    "type(mi_lista)"
   ]
  },
  {
   "cell_type": "markdown",
   "id": "37ef1098",
   "metadata": {},
   "source": [
    "Crear un array a partir de una lista"
   ]
  },
  {
   "cell_type": "code",
   "execution_count": 3,
   "id": "d101683b",
   "metadata": {},
   "outputs": [
    {
     "data": {
      "text/plain": [
       "numpy.ndarray"
      ]
     },
     "metadata": {},
     "output_type": "display_data"
    },
    {
     "data": {
      "text/plain": [
       "array([1, 2, 3, 4, 5, 6])"
      ]
     },
     "metadata": {},
     "output_type": "display_data"
    },
    {
     "data": {
      "text/plain": [
       "(6,)"
      ]
     },
     "metadata": {},
     "output_type": "display_data"
    },
    {
     "data": {
      "text/plain": [
       "1"
      ]
     },
     "metadata": {},
     "output_type": "display_data"
    }
   ],
   "source": [
    "mi_array = np.array(mi_lista)\n",
    "\n",
    "display(\n",
    "    type(mi_array),\n",
    "    mi_array,\n",
    "    mi_array.shape,\n",
    "    mi_array.ndim\n",
    ")"
   ]
  },
  {
   "cell_type": "markdown",
   "id": "96888598",
   "metadata": {},
   "source": [
    "Crear un array a partir de un dato"
   ]
  },
  {
   "cell_type": "code",
   "execution_count": 4,
   "id": "78d88f06",
   "metadata": {},
   "outputs": [
    {
     "data": {
      "text/plain": [
       "numpy.ndarray"
      ]
     },
     "metadata": {},
     "output_type": "display_data"
    },
    {
     "data": {
      "text/plain": [
       "array(48)"
      ]
     },
     "metadata": {},
     "output_type": "display_data"
    },
    {
     "data": {
      "text/plain": [
       "()"
      ]
     },
     "metadata": {},
     "output_type": "display_data"
    },
    {
     "data": {
      "text/plain": [
       "0"
      ]
     },
     "metadata": {},
     "output_type": "display_data"
    }
   ],
   "source": [
    "mi_array_cero = np.array(48)\n",
    "\n",
    "display(\n",
    "    type(mi_array_cero),\n",
    "    mi_array_cero,\n",
    "    mi_array_cero.shape,\n",
    "    mi_array_cero.ndim\n",
    ")"
   ]
  },
  {
   "cell_type": "markdown",
   "id": "fadda4ec",
   "metadata": {},
   "source": [
    "Crear matriz a partir de dos listas"
   ]
  },
  {
   "cell_type": "code",
   "execution_count": 5,
   "id": "90a0b28b",
   "metadata": {},
   "outputs": [
    {
     "data": {
      "text/plain": [
       "numpy.ndarray"
      ]
     },
     "metadata": {},
     "output_type": "display_data"
    },
    {
     "data": {
      "text/plain": [
       "array([[1, 2, 3, 4, 5, 6],\n",
       "       [1, 2, 3, 4, 5, 6]])"
      ]
     },
     "metadata": {},
     "output_type": "display_data"
    },
    {
     "data": {
      "text/plain": [
       "(2, 6)"
      ]
     },
     "metadata": {},
     "output_type": "display_data"
    },
    {
     "data": {
      "text/plain": [
       "2"
      ]
     },
     "metadata": {},
     "output_type": "display_data"
    }
   ],
   "source": [
    "mi_matriz = np.array([mi_lista, mi_lista])\n",
    "\n",
    "display(\n",
    "    type(mi_matriz),\n",
    "    mi_matriz,\n",
    "    mi_matriz.shape,\n",
    "    mi_matriz.ndim\n",
    ")"
   ]
  },
  {
   "cell_type": "markdown",
   "id": "18932640",
   "metadata": {},
   "source": [
    "Cear un array de 3 dimensiones"
   ]
  },
  {
   "cell_type": "code",
   "execution_count": 6,
   "id": "cf72e2c1",
   "metadata": {},
   "outputs": [
    {
     "data": {
      "text/plain": [
       "numpy.ndarray"
      ]
     },
     "metadata": {},
     "output_type": "display_data"
    },
    {
     "data": {
      "text/plain": [
       "array([[[1, 2, 3, 4, 5, 6],\n",
       "        [1, 2, 3, 4, 5, 6]],\n",
       "\n",
       "       [[1, 2, 3, 4, 5, 6],\n",
       "        [1, 2, 3, 4, 5, 6]]])"
      ]
     },
     "metadata": {},
     "output_type": "display_data"
    },
    {
     "data": {
      "text/plain": [
       "(2, 2, 6)"
      ]
     },
     "metadata": {},
     "output_type": "display_data"
    },
    {
     "data": {
      "text/plain": [
       "3"
      ]
     },
     "metadata": {},
     "output_type": "display_data"
    }
   ],
   "source": [
    "mi_array_3d = np.array([[mi_lista, mi_lista],[mi_lista, mi_lista]])\n",
    "\n",
    "display(\n",
    "    type(mi_array_3d),\n",
    "    mi_array_3d,\n",
    "    mi_array_3d.shape,\n",
    "    mi_array_3d.ndim\n",
    ")"
   ]
  },
  {
   "cell_type": "markdown",
   "id": "50da4de0",
   "metadata": {},
   "source": [
    "Crear un array multidimensional"
   ]
  },
  {
   "cell_type": "code",
   "execution_count": 10,
   "id": "5b48c8cc",
   "metadata": {},
   "outputs": [
    {
     "data": {
      "text/plain": [
       "numpy.ndarray"
      ]
     },
     "metadata": {},
     "output_type": "display_data"
    },
    {
     "data": {
      "text/plain": [
       "array([[[[[[[[[1, 2, 3, 4, 5, 6]]]]]]]]])"
      ]
     },
     "metadata": {},
     "output_type": "display_data"
    },
    {
     "data": {
      "text/plain": [
       "(1, 1, 1, 1, 1, 1, 1, 1, 6)"
      ]
     },
     "metadata": {},
     "output_type": "display_data"
    },
    {
     "data": {
      "text/plain": [
       "9"
      ]
     },
     "metadata": {},
     "output_type": "display_data"
    }
   ],
   "source": [
    "mi_array_n = np.array(mi_lista, ndmin=9)\n",
    "\n",
    "display(\n",
    "    type(mi_array_n),\n",
    "    mi_array_n,\n",
    "    mi_array_n.shape,\n",
    "    mi_array_n.ndim\n",
    ")"
   ]
  },
  {
   "cell_type": "markdown",
   "id": "43c95645",
   "metadata": {},
   "source": [
    "Crear un array de ceros y otro de unos\n",
    "- ones()\n",
    "- zeros()"
   ]
  },
  {
   "cell_type": "code",
   "execution_count": 11,
   "id": "d4e6fb3c",
   "metadata": {},
   "outputs": [
    {
     "data": {
      "text/plain": [
       "array([1., 1., 1.])"
      ]
     },
     "metadata": {},
     "output_type": "display_data"
    },
    {
     "data": {
      "text/plain": [
       "array([0., 0., 0., 0., 0.])"
      ]
     },
     "metadata": {},
     "output_type": "display_data"
    }
   ],
   "source": [
    "mis_unos = np.ones(3)\n",
    "mis_ceros = np.zeros(5)\n",
    "\n",
    "display(\n",
    "    mis_unos,\n",
    "    mis_ceros\n",
    ")"
   ]
  },
  {
   "cell_type": "markdown",
   "id": "48413023",
   "metadata": {},
   "source": [
    "Craer un array con un rango"
   ]
  },
  {
   "cell_type": "code",
   "execution_count": 12,
   "id": "1f3fb7d5",
   "metadata": {},
   "outputs": [
    {
     "data": {
      "text/plain": [
       "array([0, 1, 2, 3, 4, 5, 6, 7, 8, 9])"
      ]
     },
     "execution_count": 12,
     "metadata": {},
     "output_type": "execute_result"
    }
   ],
   "source": [
    "mi_rango = np.arange(10)\n",
    "mi_rango"
   ]
  },
  {
   "cell_type": "markdown",
   "id": "406aef33",
   "metadata": {},
   "source": [
    "Crear array con n valores en un rango"
   ]
  },
  {
   "cell_type": "code",
   "execution_count": 16,
   "id": "919be8fa",
   "metadata": {},
   "outputs": [
    {
     "data": {
      "text/plain": [
       "array([1.        , 1.13793103, 1.27586207, 1.4137931 , 1.55172414,\n",
       "       1.68965517, 1.82758621, 1.96551724, 2.10344828, 2.24137931,\n",
       "       2.37931034, 2.51724138, 2.65517241, 2.79310345, 2.93103448,\n",
       "       3.06896552, 3.20689655, 3.34482759, 3.48275862, 3.62068966,\n",
       "       3.75862069, 3.89655172, 4.03448276, 4.17241379, 4.31034483,\n",
       "       4.44827586, 4.5862069 , 4.72413793, 4.86206897, 5.        ])"
      ]
     },
     "execution_count": 16,
     "metadata": {},
     "output_type": "execute_result"
    }
   ],
   "source": [
    "mi_linspace = np.linspace(\n",
    "    start=1,\n",
    "    stop=5,\n",
    "    num=30,\n",
    "    endpoint=True\n",
    ")\n",
    "\n",
    "mi_linspace"
   ]
  },
  {
   "cell_type": "markdown",
   "id": "9bb70d19",
   "metadata": {},
   "source": [
    "Crear array con aleatorios"
   ]
  },
  {
   "cell_type": "code",
   "execution_count": 17,
   "id": "dcc14e08",
   "metadata": {},
   "outputs": [
    {
     "data": {
      "text/plain": [
       "array([[0.26008828, 0.54164722, 0.95599122, 0.2212895 , 0.13850621],\n",
       "       [0.61591693, 0.54199315, 0.4070251 , 0.99619859, 0.2263766 ]])"
      ]
     },
     "metadata": {},
     "output_type": "display_data"
    },
    {
     "data": {
      "text/plain": [
       "array([[1.24702663, 1.92151275, 1.78326722, 1.79140048, 1.65837064],\n",
       "       [1.43986601, 1.35339307, 1.11426207, 1.84733356, 1.58621601]])"
      ]
     },
     "metadata": {},
     "output_type": "display_data"
    },
    {
     "data": {
      "text/plain": [
       "array([[-3.78902164,  1.78899115, -0.25661917,  2.79213661,  2.02822524],\n",
       "       [ 4.32093541,  2.59378107,  0.67757674,  3.57008919,  2.7266123 ],\n",
       "       [ 2.44477159,  0.96076996,  1.99130707, -0.55244667,  2.22383246]])"
      ]
     },
     "metadata": {},
     "output_type": "display_data"
    }
   ],
   "source": [
    "mi_aleatorio_1 = np.random.random(size=(2,5))\n",
    "\n",
    "mi_aleatorio_2 = np.random.uniform(\n",
    "    low=1,\n",
    "    high=2,\n",
    "    size=(2,5)\n",
    ")\n",
    "\n",
    "mi_aleatorio_3 = np.random.normal(\n",
    "    loc=1,\n",
    "    scale=2,\n",
    "    size=(3,5)\n",
    ")\n",
    "\n",
    "display(\n",
    "    mi_aleatorio_1,\n",
    "    mi_aleatorio_2,\n",
    "    mi_aleatorio_3\n",
    ")"
   ]
  },
  {
   "cell_type": "markdown",
   "id": "97cdadb7",
   "metadata": {},
   "source": [
    "Consultando elementos del array"
   ]
  },
  {
   "cell_type": "code",
   "execution_count": 18,
   "id": "ac2e0dcd",
   "metadata": {},
   "outputs": [
    {
     "data": {
      "text/plain": [
       "array([1, 2, 3, 4, 5, 6])"
      ]
     },
     "metadata": {},
     "output_type": "display_data"
    },
    {
     "data": {
      "text/plain": [
       "1"
      ]
     },
     "metadata": {},
     "output_type": "display_data"
    },
    {
     "data": {
      "text/plain": [
       "6"
      ]
     },
     "metadata": {},
     "output_type": "display_data"
    },
    {
     "data": {
      "text/plain": [
       "array([2, 3, 4])"
      ]
     },
     "metadata": {},
     "output_type": "display_data"
    }
   ],
   "source": [
    "display(\n",
    "    mi_array,\n",
    "    mi_array[0],\n",
    "    mi_array[-1],\n",
    "    mi_array[1:-2]\n",
    ")"
   ]
  },
  {
   "cell_type": "markdown",
   "id": "f216d3fd",
   "metadata": {},
   "source": [
    "Consultado elementos de una matriz"
   ]
  },
  {
   "cell_type": "code",
   "execution_count": 20,
   "id": "56aaee2e",
   "metadata": {},
   "outputs": [
    {
     "data": {
      "text/plain": [
       "array([1, 4, 7])"
      ]
     },
     "metadata": {},
     "output_type": "display_data"
    },
    {
     "data": {
      "text/plain": [
       "array([7, 8, 9])"
      ]
     },
     "metadata": {},
     "output_type": "display_data"
    },
    {
     "data": {
      "text/plain": [
       "array([[1, 2, 3],\n",
       "       [4, 5, 6],\n",
       "       [7, 8, 9]])"
      ]
     },
     "metadata": {},
     "output_type": "display_data"
    }
   ],
   "source": [
    "mi_cuadrada = np.array([[1,2,3],[4,5,6],[7,8,9]])\n",
    "\n",
    "display(\n",
    "    mi_cuadrada[:,0],\n",
    "    mi_cuadrada[2,:],\n",
    "    mi_cuadrada[:,:]\n",
    ")"
   ]
  },
  {
   "cell_type": "markdown",
   "id": "e87a678d",
   "metadata": {},
   "source": [
    "Cambiado formas"
   ]
  },
  {
   "cell_type": "code",
   "execution_count": 21,
   "id": "fa2fb732",
   "metadata": {},
   "outputs": [
    {
     "data": {
      "text/plain": [
       "array([[0, 1, 2, 3, 4],\n",
       "       [5, 6, 7, 8, 9]])"
      ]
     },
     "metadata": {},
     "output_type": "display_data"
    },
    {
     "data": {
      "text/plain": [
       "(2, 5)"
      ]
     },
     "metadata": {},
     "output_type": "display_data"
    },
    {
     "data": {
      "text/plain": [
       "array([[0, 1],\n",
       "       [2, 3],\n",
       "       [4, 5],\n",
       "       [6, 7],\n",
       "       [8, 9]])"
      ]
     },
     "metadata": {},
     "output_type": "display_data"
    },
    {
     "data": {
      "text/plain": [
       "(5, 2)"
      ]
     },
     "metadata": {},
     "output_type": "display_data"
    },
    {
     "data": {
      "text/plain": [
       "(10,)"
      ]
     },
     "metadata": {},
     "output_type": "display_data"
    }
   ],
   "source": [
    "display(\n",
    "    mi_rango.reshape(2,5),\n",
    "    mi_rango.reshape(2,5).shape,\n",
    "    mi_rango.reshape(5,2),\n",
    "    mi_rango.reshape(5,2).shape,\n",
    "    mi_rango.shape\n",
    ")"
   ]
  },
  {
   "cell_type": "markdown",
   "id": "0c1d3e57",
   "metadata": {},
   "source": [
    "Stack de dos arrays"
   ]
  },
  {
   "cell_type": "code",
   "execution_count": 26,
   "id": "23b0bfec",
   "metadata": {},
   "outputs": [
    {
     "data": {
      "text/plain": [
       "array([1, 2, 3])"
      ]
     },
     "metadata": {},
     "output_type": "display_data"
    },
    {
     "data": {
      "text/plain": [
       "array([11, 21, 31])"
      ]
     },
     "metadata": {},
     "output_type": "display_data"
    },
    {
     "data": {
      "text/plain": [
       "array([[ 1, 11],\n",
       "       [ 2, 21],\n",
       "       [ 3, 31]])"
      ]
     },
     "metadata": {},
     "output_type": "display_data"
    },
    {
     "data": {
      "text/plain": [
       "(3, 2)"
      ]
     },
     "metadata": {},
     "output_type": "display_data"
    }
   ],
   "source": [
    "a = np.array([1,2,3])\n",
    "b = np.array([11,21,31])\n",
    "ab = np.column_stack((a,b))\n",
    "\n",
    "display(\n",
    "    a,\n",
    "    b,\n",
    "    ab,\n",
    "    ab.shape\n",
    ")"
   ]
  },
  {
   "cell_type": "markdown",
   "id": "4969f392",
   "metadata": {},
   "source": [
    "Estadísticas básicas"
   ]
  },
  {
   "cell_type": "code",
   "execution_count": 33,
   "id": "8155a36d",
   "metadata": {},
   "outputs": [
    {
     "data": {
      "text/plain": [
       "array([65.6593003 , 32.25176322, 32.71945214, 56.91473825, 99.4645147 ,\n",
       "       73.14223394, 14.62029743, 47.19060072, 75.11082646, 63.81935261,\n",
       "       21.71584714, 44.33153012, 99.54457082, 27.93137143, 41.23903211])"
      ]
     },
     "metadata": {},
     "output_type": "display_data"
    },
    {
     "data": {
      "text/plain": [
       "53.04369542610444"
      ]
     },
     "metadata": {},
     "output_type": "display_data"
    },
    {
     "data": {
      "text/plain": [
       "47.19060072207274"
      ]
     },
     "metadata": {},
     "output_type": "display_data"
    },
    {
     "data": {
      "text/plain": [
       "645.4464652961836"
      ]
     },
     "metadata": {},
     "output_type": "display_data"
    },
    {
     "data": {
      "text/plain": [
       "25.405638454803366"
      ]
     },
     "metadata": {},
     "output_type": "display_data"
    }
   ],
   "source": [
    "base = np.random.random(size=(15))\n",
    "base *= 100\n",
    "\n",
    "display(\n",
    "    base,\n",
    "    np.mean(base),\n",
    "    np.median(base),\n",
    "    np.var(base),\n",
    "    np.std(base)\n",
    ")"
   ]
  },
  {
   "cell_type": "markdown",
   "id": "d2043ea9",
   "metadata": {},
   "source": [
    "Operaciones aritméticas"
   ]
  },
  {
   "cell_type": "code",
   "execution_count": 34,
   "id": "dedcd37b",
   "metadata": {},
   "outputs": [
    {
     "data": {
      "text/plain": [
       "array([0.67523753, 0.12365112, 0.98250844, 0.50744272, 0.86345162])"
      ]
     },
     "metadata": {},
     "output_type": "display_data"
    },
    {
     "data": {
      "text/plain": [
       "array([0.89958128, 0.96193456, 0.20933651, 0.26998004, 0.83268747])"
      ]
     },
     "metadata": {},
     "output_type": "display_data"
    },
    {
     "data": {
      "text/plain": [
       "array([1.5748188 , 1.08558568, 1.19184495, 0.77742276, 1.69613909])"
      ]
     },
     "metadata": {},
     "output_type": "display_data"
    },
    {
     "data": {
      "text/plain": [
       "array([0.75061314, 0.12854421, 4.69344032, 1.87955647, 1.03694562])"
      ]
     },
     "metadata": {},
     "output_type": "display_data"
    }
   ],
   "source": [
    "array_uno = np.random.random(5)\n",
    "array_dos = np.random.random(5)\n",
    "\n",
    "display(\n",
    "    array_uno,\n",
    "    array_dos,\n",
    "    array_uno + array_dos,\n",
    "    array_uno / array_dos\n",
    ")"
   ]
  },
  {
   "cell_type": "code",
   "execution_count": 37,
   "id": "cb801b84",
   "metadata": {},
   "outputs": [
    {
     "data": {
      "text/plain": [
       "array([[0.38810671, 0.37299423, 0.24610175],\n",
       "       [0.40778577, 0.09103627, 0.59216281],\n",
       "       [0.10271003, 0.97544919, 0.26832675]])"
      ]
     },
     "metadata": {},
     "output_type": "display_data"
    },
    {
     "data": {
      "text/plain": [
       "array([[0.56924221, 0.7180636 , 0.16830421],\n",
       "       [0.11049844, 0.71426956, 0.76188259],\n",
       "       [0.446856  , 0.61444697, 0.77732218]])"
      ]
     },
     "metadata": {},
     "output_type": "display_data"
    },
    {
     "data": {
      "text/plain": [
       "array([[-0.1811355 , -0.34506937,  0.07779753],\n",
       "       [ 0.29728733, -0.62323329, -0.16971978],\n",
       "       [-0.34414597,  0.36100222, -0.50899543]])"
      ]
     },
     "metadata": {},
     "output_type": "display_data"
    }
   ],
   "source": [
    "matriz_uno = np.random.random(size=(3,3))\n",
    "matriz_dos = np.random.random(size=(3,3))\n",
    "\n",
    "display(\n",
    "    matriz_uno,\n",
    "    matriz_dos,\n",
    "    matriz_uno - matriz_dos\n",
    ")"
   ]
  },
  {
   "cell_type": "markdown",
   "id": "d70d4f97",
   "metadata": {},
   "source": [
    "arange con operadores lógicos"
   ]
  },
  {
   "cell_type": "code",
   "execution_count": 39,
   "id": "4d40cf08",
   "metadata": {},
   "outputs": [
    {
     "data": {
      "text/plain": [
       "array([False, False, False, False, False, False,  True,  True,  True,\n",
       "        True])"
      ]
     },
     "execution_count": 39,
     "metadata": {},
     "output_type": "execute_result"
    }
   ],
   "source": [
    "np.arange(10) > 5"
   ]
  },
  {
   "cell_type": "markdown",
   "id": "7faa8d08",
   "metadata": {},
   "source": [
    "Selección lógica"
   ]
  },
  {
   "cell_type": "code",
   "execution_count": 41,
   "id": "132bf130",
   "metadata": {},
   "outputs": [
    {
     "data": {
      "text/plain": [
       "array([0, 1, 2, 3, 4, 5, 6, 7, 8, 9])"
      ]
     },
     "metadata": {},
     "output_type": "display_data"
    },
    {
     "data": {
      "text/plain": [
       "array([False, False, False, False,  True,  True,  True,  True,  True,\n",
       "        True])"
      ]
     },
     "metadata": {},
     "output_type": "display_data"
    },
    {
     "data": {
      "text/plain": [
       "array([4, 5, 6, 7, 8, 9])"
      ]
     },
     "metadata": {},
     "output_type": "display_data"
    }
   ],
   "source": [
    "arreglo = np.arange(10)\n",
    "booleanos = arreglo > 3\n",
    "\n",
    "display(\n",
    "    arreglo,\n",
    "    booleanos,\n",
    "    arreglo[booleanos]\n",
    ")"
   ]
  },
  {
   "cell_type": "code",
   "execution_count": 42,
   "id": "f6f4a102",
   "metadata": {},
   "outputs": [
    {
     "data": {
      "text/plain": [
       "array([False, False, False, False,  True,  True,  True, False, False,\n",
       "       False])"
      ]
     },
     "metadata": {},
     "output_type": "display_data"
    },
    {
     "data": {
      "text/plain": [
       "array([4, 5, 6])"
      ]
     },
     "metadata": {},
     "output_type": "display_data"
    }
   ],
   "source": [
    "booleanos_2 = arreglo < 7\n",
    "booleanos_3 = np.logical_and(booleanos, booleanos_2)\n",
    "\n",
    "display(\n",
    "    booleanos_3,\n",
    "    arreglo[booleanos_3]\n",
    ")"
   ]
  },
  {
   "cell_type": "markdown",
   "id": "99a88efe",
   "metadata": {},
   "source": [
    "Iteraciones sobre arrays"
   ]
  },
  {
   "cell_type": "code",
   "execution_count": 44,
   "id": "83d66bcc",
   "metadata": {},
   "outputs": [
    {
     "name": "stdout",
     "output_type": "stream",
     "text": [
      "1\n",
      "2\n",
      "3\n",
      "4\n",
      "5\n",
      "6\n"
     ]
    }
   ],
   "source": [
    "for elemento in mi_array:\n",
    "    print(elemento)"
   ]
  },
  {
   "cell_type": "code",
   "execution_count": 49,
   "id": "6182fc93",
   "metadata": {},
   "outputs": [
    {
     "name": "stdout",
     "output_type": "stream",
     "text": [
      "[0.38810671 0.37299423 0.24610175]\n",
      "[0.40778577 0.09103627 0.59216281]\n",
      "[0.10271003 0.97544919 0.26832675]\n",
      "\n",
      "0.38810670646408474\n",
      "0.372994234636141\n",
      "0.24610174605569857\n",
      "0.40778577201517874\n",
      "0.0910362661448596\n",
      "0.5921628057412328\n",
      "0.10271003050882677\n",
      "0.9754491898885012\n",
      "0.26832674831094416\n"
     ]
    }
   ],
   "source": [
    "for elemento in matriz_uno:\n",
    "    print(elemento)\n",
    "    \n",
    "print('')\n",
    "\n",
    "for elemento in np.nditer(matriz_uno):\n",
    "    print(elemento)"
   ]
  }
 ],
 "metadata": {
  "kernelspec": {
   "display_name": "Python 3",
   "language": "python",
   "name": "python3"
  },
  "language_info": {
   "codemirror_mode": {
    "name": "ipython",
    "version": 3
   },
   "file_extension": ".py",
   "mimetype": "text/x-python",
   "name": "python",
   "nbconvert_exporter": "python",
   "pygments_lexer": "ipython3",
   "version": "3.8.8"
  }
 },
 "nbformat": 4,
 "nbformat_minor": 5
}
