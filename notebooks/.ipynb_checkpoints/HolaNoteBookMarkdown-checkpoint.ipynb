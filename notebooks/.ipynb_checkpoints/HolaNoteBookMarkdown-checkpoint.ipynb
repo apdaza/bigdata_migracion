{
 "cells": [
  {
   "cell_type": "markdown",
   "id": "b04cb071",
   "metadata": {},
   "source": [
    "# Intro a  jupyter notebooks\n",
    "\n",
    "Notebook para introducir el manejo del entorno"
   ]
  },
  {
   "cell_type": "code",
   "execution_count": 1,
   "id": "8ad9ce21",
   "metadata": {},
   "outputs": [
    {
     "name": "stdout",
     "output_type": "stream",
     "text": [
      "Hola mundo con notebooks\n"
     ]
    }
   ],
   "source": [
    "print(\"Hola mundo con notebooks\")"
   ]
  },
  {
   "cell_type": "markdown",
   "id": "e24f2372",
   "metadata": {},
   "source": [
    "## Ejemplo de función para usar en otra celda"
   ]
  },
  {
   "cell_type": "code",
   "execution_count": 2,
   "id": "77923fc4",
   "metadata": {},
   "outputs": [],
   "source": [
    "def mi_funcion(parametro):\n",
    "    print(\"hola \" + parametro)"
   ]
  },
  {
   "cell_type": "markdown",
   "id": "263d0b05",
   "metadata": {},
   "source": [
    "Uso de elementos declarados en **celdas anteriores** para:\n",
    "- demostrar el uso de los elementos declarados en celdas anteriores"
   ]
  },
  {
   "cell_type": "code",
   "execution_count": 3,
   "id": "1661d102",
   "metadata": {},
   "outputs": [
    {
     "name": "stdout",
     "output_type": "stream",
     "text": [
      "hola Alejandro\n"
     ]
    }
   ],
   "source": [
    "mi_funcion(\"Alejandro\")"
   ]
  },
  {
   "cell_type": "markdown",
   "id": "afb4cd84",
   "metadata": {},
   "source": [
    "![logo](logo.png)"
   ]
  },
  {
   "cell_type": "code",
   "execution_count": null,
   "id": "db67c3c4",
   "metadata": {},
   "outputs": [],
   "source": []
  }
 ],
 "metadata": {
  "kernelspec": {
   "display_name": "Python 3",
   "language": "python",
   "name": "python3"
  },
  "language_info": {
   "codemirror_mode": {
    "name": "ipython",
    "version": 3
   },
   "file_extension": ".py",
   "mimetype": "text/x-python",
   "name": "python",
   "nbconvert_exporter": "python",
   "pygments_lexer": "ipython3",
   "version": "3.8.8"
  }
 },
 "nbformat": 4,
 "nbformat_minor": 5
}
