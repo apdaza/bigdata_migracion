{
 "cells": [
  {
   "cell_type": "code",
   "execution_count": 9,
   "id": "2db0216b",
   "metadata": {},
   "outputs": [],
   "source": [
    "from ipywidgets import *\n",
    "import ipywidgets as widgets\n",
    "\n",
    "import numpy as np\n",
    "import matplotlib.pyplot as plt\n",
    "import matplotlib as mpl\n",
    "%matplotlib inline"
   ]
  },
  {
   "cell_type": "code",
   "execution_count": null,
   "id": "a8dfb15f",
   "metadata": {},
   "outputs": [],
   "source": [
    "def f(n, color):\n",
    "    x = np.random_unifor(0, 1, n)\n",
    "    plt.bar(range(n), color=color)\n",
    "    plt.show()\n",
    "\n",
    "interact(\n",
    "    f, \n",
    "    n=widgets.IntSlider(min=5, max=10, step=1, value=5),\n",
    "    color=widgets.RadioButtons(description=\"Color:\", options=['blue','green'])\n",
    ")"
   ]
  }
 ],
 "metadata": {
  "kernelspec": {
   "display_name": "Python 3",
   "language": "python",
   "name": "python3"
  },
  "language_info": {
   "codemirror_mode": {
    "name": "ipython",
    "version": 3
   },
   "file_extension": ".py",
   "mimetype": "text/x-python",
   "name": "python",
   "nbconvert_exporter": "python",
   "pygments_lexer": "ipython3",
   "version": "3.8.8"
  }
 },
 "nbformat": 4,
 "nbformat_minor": 5
}
