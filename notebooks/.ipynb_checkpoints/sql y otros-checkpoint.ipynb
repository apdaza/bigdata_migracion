{
 "cells": [
  {
   "cell_type": "markdown",
   "id": "52b4c274",
   "metadata": {},
   "source": [
    "# SQL y otras características"
   ]
  },
  {
   "cell_type": "code",
   "execution_count": 1,
   "id": "8e322c00",
   "metadata": {},
   "outputs": [],
   "source": [
    "import pandas as pd\n",
    "import numpy as np\n",
    "from random import randint, choice"
   ]
  },
  {
   "cell_type": "raw",
   "id": "60f98661",
   "metadata": {},
   "source": [
    "lista_dias = ['Lunes', 'Martes', 'Mi']"
   ]
  },
  {
   "cell_type": "code",
   "execution_count": null,
   "id": "03a8db27",
   "metadata": {},
   "outputs": [],
   "source": []
  }
 ],
 "metadata": {
  "kernelspec": {
   "display_name": "Python 3",
   "language": "python",
   "name": "python3"
  },
  "language_info": {
   "codemirror_mode": {
    "name": "ipython",
    "version": 3
   },
   "file_extension": ".py",
   "mimetype": "text/x-python",
   "name": "python",
   "nbconvert_exporter": "python",
   "pygments_lexer": "ipython3",
   "version": "3.8.8"
  }
 },
 "nbformat": 4,
 "nbformat_minor": 5
}
