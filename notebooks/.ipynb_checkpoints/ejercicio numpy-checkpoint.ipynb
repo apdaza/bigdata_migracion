{
 "cells": [
  {
   "cell_type": "code",
   "execution_count": 12,
   "id": "d83337e1",
   "metadata": {},
   "outputs": [
    {
     "data": {
      "text/plain": [
       "array([[23., 23., 30.],\n",
       "       [45., 31., 30.],\n",
       "       [44., 33., 24.]])"
      ]
     },
     "execution_count": 12,
     "metadata": {},
     "output_type": "execute_result"
    }
   ],
   "source": [
    "import numpy as np\n",
    "\n",
    "edades = np.around(np.random.uniform(\n",
    "    low=20,\n",
    "    high=50,\n",
    "    size=(3, 3),\n",
    "))\n",
    "\n",
    "edades "
   ]
  },
  {
   "cell_type": "code",
   "execution_count": 9,
   "id": "da6aee96",
   "metadata": {},
   "outputs": [
    {
     "data": {
      "text/plain": [
       "array([[4890., 3968., 2666.],\n",
       "       [1587., 4233., 2550.],\n",
       "       [4936., 3586., 3555.]])"
      ]
     },
     "execution_count": 9,
     "metadata": {},
     "output_type": "execute_result"
    }
   ],
   "source": [
    "ingresos = np.around(np.random.uniform(\n",
    "    low=1000,\n",
    "    high=5000,\n",
    "    size=(3, 3),\n",
    "))\n",
    "\n",
    "ingresos "
   ]
  },
  {
   "cell_type": "code",
   "execution_count": 18,
   "id": "e9d42d99",
   "metadata": {},
   "outputs": [
    {
     "data": {
      "text/plain": [
       "array([23., 23., 30., 45., 31., 30., 44., 33., 24.])"
      ]
     },
     "metadata": {},
     "output_type": "display_data"
    },
    {
     "data": {
      "text/plain": [
       "array([4890., 3968., 2666., 1587., 4233., 2550., 4936., 3586., 3555.])"
      ]
     },
     "metadata": {},
     "output_type": "display_data"
    }
   ],
   "source": [
    "edades = edades.reshape(9)\n",
    "ingresos = ingresos.reshape(9)\n",
    "\n",
    "display(\n",
    "    edades,\n",
    "    ingresos\n",
    ")"
   ]
  },
  {
   "cell_type": "code",
   "execution_count": 20,
   "id": "d44246e6",
   "metadata": {},
   "outputs": [
    {
     "data": {
      "text/plain": [
       "array([[  23., 4890.],\n",
       "       [  23., 3968.],\n",
       "       [  30., 2666.],\n",
       "       [  45., 1587.],\n",
       "       [  31., 4233.],\n",
       "       [  30., 2550.],\n",
       "       [  44., 4936.],\n",
       "       [  33., 3586.],\n",
       "       [  24., 3555.]])"
      ]
     },
     "execution_count": 20,
     "metadata": {},
     "output_type": "execute_result"
    }
   ],
   "source": [
    "combinado = np.column_stack((edades,ingresos))\n",
    "\n",
    "combinado"
   ]
  },
  {
   "cell_type": "code",
   "execution_count": 28,
   "id": "598d094d",
   "metadata": {
    "scrolled": true
   },
   "outputs": [
    {
     "data": {
      "text/plain": [
       "array([[  23., 4890.],\n",
       "       [  23., 3968.],\n",
       "       [  30., 2666.],\n",
       "       [  31., 4233.],\n",
       "       [  30., 2550.],\n",
       "       [  33., 3586.],\n",
       "       [  24., 3555.]])"
      ]
     },
     "execution_count": 28,
     "metadata": {},
     "output_type": "execute_result"
    }
   ],
   "source": [
    "booleano_edad = combinado[:,0] < 40 \n",
    "booleano_edad\n",
    "\n"
   ]
  },
  {
   "cell_type": "code",
   "execution_count": 33,
   "id": "ed47af91",
   "metadata": {},
   "outputs": [],
   "source": [
    "booleano_ingreso1 = combinado[:,1] > 2000 \n",
    "booleano_ingreso2 = combinado[:,1] < 4000\n",
    "booleano_ingreso = np.logical_and(booleano_ingreso1,booleano_ingreso2)\n"
   ]
  },
  {
   "cell_type": "code",
   "execution_count": 39,
   "id": "43fe76ed",
   "metadata": {},
   "outputs": [
    {
     "data": {
      "text/plain": [
       "array([False,  True,  True, False, False,  True, False,  True,  True])"
      ]
     },
     "execution_count": 39,
     "metadata": {},
     "output_type": "execute_result"
    }
   ],
   "source": [
    "booleano_combinado = np.logical_and(booleano_edad,booleano_ingreso)\n",
    "\n",
    "booleano_combinado\n"
   ]
  },
  {
   "cell_type": "code",
   "execution_count": 40,
   "id": "213467b3",
   "metadata": {},
   "outputs": [
    {
     "data": {
      "text/plain": [
       "array([[  23., 3968.],\n",
       "       [  30., 2666.],\n",
       "       [  30., 2550.],\n",
       "       [  33., 3586.],\n",
       "       [  24., 3555.]])"
      ]
     },
     "execution_count": 40,
     "metadata": {},
     "output_type": "execute_result"
    }
   ],
   "source": [
    "combinado[booleano_combinado]"
   ]
  }
 ],
 "metadata": {
  "kernelspec": {
   "display_name": "Python 3",
   "language": "python",
   "name": "python3"
  },
  "language_info": {
   "codemirror_mode": {
    "name": "ipython",
    "version": 3
   },
   "file_extension": ".py",
   "mimetype": "text/x-python",
   "name": "python",
   "nbconvert_exporter": "python",
   "pygments_lexer": "ipython3",
   "version": "3.8.8"
  }
 },
 "nbformat": 4,
 "nbformat_minor": 5
}
