{
 "cells": [
  {
   "cell_type": "markdown",
   "id": "b44a5022",
   "metadata": {},
   "source": [
    "# Intro a  jupyter notebooks\n",
    "\n",
    "Notebook para introducir el manejo del entorno"
   ]
  },
  {
   "cell_type": "code",
   "execution_count": 1,
   "id": "26ecb134",
   "metadata": {},
   "outputs": [
    {
     "name": "stdout",
     "output_type": "stream",
     "text": [
      "Hola mundo con notebooks\n"
     ]
    }
   ],
   "source": [
    "print(\"Hola mundo con notebooks\")"
   ]
  },
  {
   "cell_type": "markdown",
   "id": "786c249f",
   "metadata": {},
   "source": [
    "## Ejemplo de función para usar en otra celda"
   ]
  },
  {
   "cell_type": "code",
   "execution_count": 2,
   "id": "aa5a2f2b",
   "metadata": {},
   "outputs": [],
   "source": [
    "def mi_funcion(parametro):\n",
    "    print(\"hola \" + parametro)"
   ]
  },
  {
   "cell_type": "markdown",
   "id": "407ead6c",
   "metadata": {},
   "source": [
    "Uso de elementos declarados en **celdas anteriores** para:\n",
    "- demostrar el uso de los elementos declarados en celdas anteriores"
   ]
  },
  {
   "cell_type": "code",
   "execution_count": 3,
   "id": "5e05c68e",
   "metadata": {},
   "outputs": [
    {
     "name": "stdout",
     "output_type": "stream",
     "text": [
      "hola Alejandro\n"
     ]
    }
   ],
   "source": [
    "mi_funcion(\"Alejandro\")"
   ]
  },
  {
   "cell_type": "markdown",
   "id": "25cf2831",
   "metadata": {},
   "source": [
    "![logo](logo.png)"
   ]
  },
  {
   "cell_type": "code",
   "execution_count": null,
   "id": "6c24eeda",
   "metadata": {},
   "outputs": [],
   "source": []
  }
 ],
 "metadata": {
  "kernelspec": {
   "display_name": "Python 3",
   "language": "python",
   "name": "python3"
  },
  "language_info": {
   "codemirror_mode": {
    "name": "ipython",
    "version": 3
   },
   "file_extension": ".py",
   "mimetype": "text/x-python",
   "name": "python",
   "nbconvert_exporter": "python",
   "pygments_lexer": "ipython3",
   "version": "3.8.8"
  }
 },
 "nbformat": 4,
 "nbformat_minor": 5
}
