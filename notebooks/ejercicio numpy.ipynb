{
 "cells": [
  {
   "cell_type": "markdown",
   "id": "389d929b",
   "metadata": {},
   "source": [
    "# Ejercicio de edades e ingresos\n",
    "\n",
    "- generar una matriz 3x3 de edades entre 20 y 50 años \n",
    "- generar una matriz 3x3 de ingresos entre 2000 y 5000 miles de pesos \n",
    "- unir la data uno a uno en una matriz de 9x2\n",
    "- filtrar aquellas filas cuya edad está entre 20 y 30 años y cuyos ingresos estan entre 2000 y 5000."
   ]
  },
  {
   "cell_type": "code",
   "execution_count": 1,
   "id": "4a5b0de1",
   "metadata": {},
   "outputs": [
    {
     "data": {
      "text/plain": [
       "array([[36., 44., 23.],\n",
       "       [39., 48., 40.],\n",
       "       [42., 42., 45.]])"
      ]
     },
     "execution_count": 1,
     "metadata": {},
     "output_type": "execute_result"
    }
   ],
   "source": [
    "import numpy as np\n",
    "\n",
    "edades = np.around(np.random.uniform(\n",
    "    low=20,\n",
    "    high=50,\n",
    "    size=(3, 3),\n",
    "))\n",
    "\n",
    "edades "
   ]
  },
  {
   "cell_type": "code",
   "execution_count": 2,
   "id": "336e97eb",
   "metadata": {},
   "outputs": [
    {
     "data": {
      "text/plain": [
       "array([[3873., 1296., 1203.],\n",
       "       [2234., 2735., 4581.],\n",
       "       [2563., 4171., 2780.]])"
      ]
     },
     "execution_count": 2,
     "metadata": {},
     "output_type": "execute_result"
    }
   ],
   "source": [
    "ingresos = np.around(np.random.uniform(\n",
    "    low=1000,\n",
    "    high=5000,\n",
    "    size=(3, 3),\n",
    "))\n",
    "\n",
    "ingresos "
   ]
  },
  {
   "cell_type": "code",
   "execution_count": 3,
   "id": "e5f4f829",
   "metadata": {},
   "outputs": [
    {
     "data": {
      "text/plain": [
       "array([36., 44., 23., 39., 48., 40., 42., 42., 45.])"
      ]
     },
     "metadata": {},
     "output_type": "display_data"
    },
    {
     "data": {
      "text/plain": [
       "array([3873., 1296., 1203., 2234., 2735., 4581., 2563., 4171., 2780.])"
      ]
     },
     "metadata": {},
     "output_type": "display_data"
    }
   ],
   "source": [
    "edades = edades.reshape(9)\n",
    "ingresos = ingresos.reshape(9)\n",
    "\n",
    "display(\n",
    "    edades,\n",
    "    ingresos\n",
    ")"
   ]
  },
  {
   "cell_type": "code",
   "execution_count": 4,
   "id": "e4e000b1",
   "metadata": {},
   "outputs": [
    {
     "data": {
      "text/plain": [
       "array([[  36., 3873.],\n",
       "       [  44., 1296.],\n",
       "       [  23., 1203.],\n",
       "       [  39., 2234.],\n",
       "       [  48., 2735.],\n",
       "       [  40., 4581.],\n",
       "       [  42., 2563.],\n",
       "       [  42., 4171.],\n",
       "       [  45., 2780.]])"
      ]
     },
     "execution_count": 4,
     "metadata": {},
     "output_type": "execute_result"
    }
   ],
   "source": [
    "combinado = np.column_stack((edades,ingresos))\n",
    "\n",
    "combinado"
   ]
  },
  {
   "cell_type": "code",
   "execution_count": 5,
   "id": "a96ac16c",
   "metadata": {
    "scrolled": true
   },
   "outputs": [
    {
     "data": {
      "text/plain": [
       "array([ True, False,  True,  True, False, False, False, False, False])"
      ]
     },
     "execution_count": 5,
     "metadata": {},
     "output_type": "execute_result"
    }
   ],
   "source": [
    "booleano_edad = combinado[:,0] < 40 \n",
    "booleano_edad\n",
    "\n"
   ]
  },
  {
   "cell_type": "code",
   "execution_count": 6,
   "id": "40b6f895",
   "metadata": {},
   "outputs": [],
   "source": [
    "booleano_ingreso1 = combinado[:,1] > 2000 \n",
    "booleano_ingreso2 = combinado[:,1] < 4000\n",
    "booleano_ingreso = np.logical_and(booleano_ingreso1,booleano_ingreso2)\n"
   ]
  },
  {
   "cell_type": "code",
   "execution_count": 7,
   "id": "c9edba4c",
   "metadata": {},
   "outputs": [
    {
     "data": {
      "text/plain": [
       "array([ True, False, False,  True, False, False, False, False, False])"
      ]
     },
     "execution_count": 7,
     "metadata": {},
     "output_type": "execute_result"
    }
   ],
   "source": [
    "booleano_combinado = np.logical_and(booleano_edad,booleano_ingreso)\n",
    "\n",
    "booleano_combinado\n"
   ]
  },
  {
   "cell_type": "code",
   "execution_count": 8,
   "id": "0efcbd6f",
   "metadata": {},
   "outputs": [
    {
     "data": {
      "text/plain": [
       "array([[  36., 3873.],\n",
       "       [  39., 2234.]])"
      ]
     },
     "execution_count": 8,
     "metadata": {},
     "output_type": "execute_result"
    }
   ],
   "source": [
    "combinado[booleano_combinado]"
   ]
  }
 ],
 "metadata": {
  "kernelspec": {
   "display_name": "Python 3",
   "language": "python",
   "name": "python3"
  },
  "language_info": {
   "codemirror_mode": {
    "name": "ipython",
    "version": 3
   },
   "file_extension": ".py",
   "mimetype": "text/x-python",
   "name": "python",
   "nbconvert_exporter": "python",
   "pygments_lexer": "ipython3",
   "version": "3.8.8"
  }
 },
 "nbformat": 4,
 "nbformat_minor": 5
}
