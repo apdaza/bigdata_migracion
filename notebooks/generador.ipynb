{
 "cells": [
  {
   "cell_type": "markdown",
   "id": "6fa845e4",
   "metadata": {},
   "source": [
    "# Generador de un csv de ejemplo"
   ]
  },
  {
   "cell_type": "code",
   "execution_count": 1,
   "id": "9179d5d6",
   "metadata": {},
   "outputs": [],
   "source": [
    "from pandas import *\n",
    "from random import randint, choice\n",
    "\n",
    "lista_ciudades = ['Bogotá', 'Chía', 'Cajica', 'Zipa', 'Tenjo']\n",
    "lista_generos = ['M', 'F']\n",
    "\n",
    "nombres = []\n",
    "edades = []\n",
    "generos = []\n",
    "ciudades = []\n",
    "hijos = []\n",
    "mascotas = []\n",
    "vehiculos = []\n",
    "salario = []"
   ]
  },
  {
   "cell_type": "code",
   "execution_count": 2,
   "id": "f481f3d8",
   "metadata": {},
   "outputs": [],
   "source": [
    "for i in range(10000):\n",
    "    nombres.append('persona_'+str(i))\n",
    "    edades.append(randint(20, 70))\n",
    "    generos.append(choice(lista_generos))\n",
    "    ciudades.append(choice(lista_ciudades))\n",
    "    hijos.append(randint(0, 3))\n",
    "    mascotas.append(randint(0, 5))\n",
    "    vehiculos.append(randint(0, 2))\n",
    "    salario.append(randint(900, 7000))\n",
    "    "
   ]
  },
  {
   "cell_type": "code",
   "execution_count": 3,
   "id": "f3914f7c",
   "metadata": {},
   "outputs": [],
   "source": [
    "cv data = {\n",
    "                       <: salario\n",
    "}"
   ]
  },
  {
   "cell_type": "code",
   "execution_count": 4,
   "id": "daacb710",
   "metadata": {},
   "outputs": [],
   "source": [
    "df = DataFrame(data, columns = ['nombres', 'edades', 'generos',\n",
    "                                'ciudades', 'hijos', 'mascotas',\n",
    "                                'vehiculos', 'salario'])"
   ]
  },
  {
   "cell_type": "code",
   "execution_count": 5,
   "id": "45afd9ea",
   "metadata": {},
   "outputs": [
    {
     "data": {
      "text/html": [
       "<div>\n",
       "<style scoped>\n",
       "    .dataframe tbody tr th:only-of-type {\n",
       "        vertical-align: middle;\n",
       "    }\n",
       "\n",
       "    .dataframe tbody tr th {\n",
       "        vertical-align: top;\n",
       "    }\n",
       "\n",
       "    .dataframe thead th {\n",
       "        text-align: right;\n",
       "    }\n",
       "</style>\n",
       "<table border=\"1\" class=\"dataframe\">\n",
       "  <thead>\n",
       "    <tr style=\"text-align: right;\">\n",
       "      <th></th>\n",
       "      <th>nombres</th>\n",
       "      <th>edades</th>\n",
       "      <th>generos</th>\n",
       "      <th>ciudades</th>\n",
       "      <th>hijos</th>\n",
       "      <th>mascotas</th>\n",
       "      <th>vehiculos</th>\n",
       "      <th>salario</th>\n",
       "    </tr>\n",
       "  </thead>\n",
       "  <tbody>\n",
       "    <tr>\n",
       "      <th>0</th>\n",
       "      <td>persona_0</td>\n",
       "      <td>52</td>\n",
       "      <td>F</td>\n",
       "      <td>Chía</td>\n",
       "      <td>2</td>\n",
       "      <td>5</td>\n",
       "      <td>1</td>\n",
       "      <td>4169</td>\n",
       "    </tr>\n",
       "    <tr>\n",
       "      <th>1</th>\n",
       "      <td>persona_1</td>\n",
       "      <td>54</td>\n",
       "      <td>F</td>\n",
       "      <td>Chía</td>\n",
       "      <td>0</td>\n",
       "      <td>2</td>\n",
       "      <td>0</td>\n",
       "      <td>6815</td>\n",
       "    </tr>\n",
       "    <tr>\n",
       "      <th>2</th>\n",
       "      <td>persona_2</td>\n",
       "      <td>63</td>\n",
       "      <td>F</td>\n",
       "      <td>Bogotá</td>\n",
       "      <td>3</td>\n",
       "      <td>2</td>\n",
       "      <td>2</td>\n",
       "      <td>2648</td>\n",
       "    </tr>\n",
       "    <tr>\n",
       "      <th>3</th>\n",
       "      <td>persona_3</td>\n",
       "      <td>60</td>\n",
       "      <td>F</td>\n",
       "      <td>Bogotá</td>\n",
       "      <td>0</td>\n",
       "      <td>0</td>\n",
       "      <td>2</td>\n",
       "      <td>4627</td>\n",
       "    </tr>\n",
       "    <tr>\n",
       "      <th>4</th>\n",
       "      <td>persona_4</td>\n",
       "      <td>32</td>\n",
       "      <td>M</td>\n",
       "      <td>Bogotá</td>\n",
       "      <td>2</td>\n",
       "      <td>4</td>\n",
       "      <td>2</td>\n",
       "      <td>1227</td>\n",
       "    </tr>\n",
       "  </tbody>\n",
       "</table>\n",
       "</div>"
      ],
      "text/plain": [
       "     nombres  edades generos ciudades  hijos  mascotas  vehiculos  salario\n",
       "0  persona_0      52       F     Chía      2         5          1     4169\n",
       "1  persona_1      54       F     Chía      0         2          0     6815\n",
       "2  persona_2      63       F   Bogotá      3         2          2     2648\n",
       "3  persona_3      60       F   Bogotá      0         0          2     4627\n",
       "4  persona_4      32       M   Bogotá      2         4          2     1227"
      ]
     },
     "execution_count": 5,
     "metadata": {},
     "output_type": "execute_result"
    }
   ],
   "source": [
    "df.head()"
   ]
  },
  {
   "cell_type": "code",
   "execution_count": 6,
   "id": "b57ce3e9",
   "metadata": {},
   "outputs": [],
   "source": [
    "df.                                                                                                                                      ('info.csv')"
   ]
  }
 ],
 "metadata": {
  "kernelspec": {
   "display_name": "Python 3",
   "language": "python",
   "name": "python3"
  },
  "language_info": {
   "codemirror_mode": {
    "name": "ipython",
    "version": 3
   },
   "file_extension": ".py",
   "mimetype": "text/x-python",
   "name": "python",
   "nbconvert_exporter": "python",
   "pygments_lexer": "ipython3",
   "version": "3.8.8"
  }
 },
 "nbformat": 4,
 "nbformat_minor": 5
}
